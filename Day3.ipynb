{
 "cells": [
  {
   "cell_type": "code",
   "execution_count": 1,
   "metadata": {},
   "outputs": [
    {
     "name": "stdout",
     "output_type": "stream",
     "text": [
      "123\n"
     ]
    }
   ],
   "source": [
    "print(123)"
   ]
  },
  {
   "cell_type": "code",
   "execution_count": 9,
   "metadata": {},
   "outputs": [
    {
     "name": "stdout",
     "output_type": "stream",
     "text": [
      "enter the year2013\n",
      "not a leaf year\n"
     ]
    }
   ],
   "source": [
    "year=int(input(\"enter the year\"))\n",
    "\n",
    "if year%4==0:\n",
    "    if year%100==0:\n",
    "        if year%400==0:\n",
    "            print(\"leaf year\")\n",
    "        else:\n",
    "            print(\"not a leaf year\")\n",
    "    else:\n",
    "        print(\"leaf year\")\n",
    "else:\n",
    "    print(\"not a leaf year\")\n",
    "    "
   ]
  },
  {
   "cell_type": "code",
   "execution_count": 18,
   "metadata": {},
   "outputs": [
    {
     "name": "stdout",
     "output_type": "stream",
     "text": [
      "Enter the height :187\n",
      "enter the age :17\n",
      "Enter Y if you want take  a photo else NN\n",
      "final money is  7\n"
     ]
    }
   ],
   "source": [
    "Height=int(input(\"Enter the height :\"))\n",
    "\n",
    "bill=0\n",
    "\n",
    "\n",
    "\n",
    "if Height>120:\n",
    "    \n",
    "    age=int(input(\"enter the age :\"))\n",
    "    \n",
    "    if age<12:\n",
    "        bill=5\n",
    "        \n",
    "    elif age<18:\n",
    "        bill=7\n",
    "        \n",
    "    else:\n",
    "        bill=12\n",
    "    photo=input(\"Enter Y if you want take  a photo else N\")\n",
    "    \n",
    "    if photo==\"Y\":\n",
    "        bill+=3\n",
    "    print(\"final money is \",bill)\n",
    "    \n",
    "else:\n",
    "    print(\"you should grow more than 120cm before you start the ride\")"
   ]
  },
  {
   "cell_type": "code",
   "execution_count": 23,
   "metadata": {},
   "outputs": [
    {
     "name": "stdout",
     "output_type": "stream",
     "text": [
      " Welcome to the pizza world :\n",
      "enter the size of the Pizza S , M , LL\n",
      "enter the Y if you want pepper else NN\n",
      "enter the Y if you want cheese else NY\n",
      "26\n"
     ]
    }
   ],
   "source": [
    "\"\"\"\n",
    "small Pizza =$15\n",
    "Medium pizza=$20\n",
    "Large Pizza=$25\n",
    "\n",
    "\n",
    "Pepper for small=$2\n",
    "pepper for medium or large = $3\n",
    "\n",
    "\n",
    "cheese for any size =$1\n",
    "\"\"\"\n",
    "\n",
    "print(\" Welcome to the pizza world :\")\n",
    "\n",
    "Size=input(\"enter the size of the Pizza S , M , L\")\n",
    "\n",
    "Rate = 0\n",
    "\n",
    "\n",
    "if Size==\"S\":\n",
    "    Rate=15\n",
    "    Pepper=input(\"enter the Y if you want pepper else N\")\n",
    "    if Pepper==\"Y\":\n",
    "        Rate=Rate+2\n",
    "    cheese=input(\"enter the Y if you want cheese else N\")\n",
    "    if cheese==\"Y\":\n",
    "        Rate+=1\n",
    "    print(Rate)\n",
    "elif Size ==\"M\":\n",
    "    Rate=20\n",
    "    Pepper=input(\"enter the Y if you want pepper else N\")\n",
    "    if Pepper==\"Y\":\n",
    "        Rate=Rate+3\n",
    "    cheese=input(\"enter the Y if you want cheese else N\")\n",
    "    if cheese==\"Y\":\n",
    "        Rate+=1\n",
    "    print(Rate)\n",
    "    \n",
    "else:\n",
    "    Rate=25\n",
    "    Pepper=input(\"enter the Y if you want pepper else N\")\n",
    "    if Pepper==\"Y\":\n",
    "        Rate=Rate+3\n",
    "    cheese=input(\"enter the Y if you want cheese else N\")\n",
    "    if cheese==\"Y\":\n",
    "        Rate+=1\n",
    "    print(Rate)\n",
    "\n",
    "    "
   ]
  },
  {
   "cell_type": "code",
   "execution_count": 48,
   "metadata": {},
   "outputs": [
    {
     "name": "stdout",
     "output_type": "stream",
     "text": [
      "Enetr the 1st name :true\n",
      "Enter the second name: love\n",
      " T occurs 1 times\n",
      " R occurs 1 times\n",
      " U occurs 1 times\n",
      " E occurs 2 times\n",
      "5\n",
      " L occurs 1 times\n",
      " O occurs 1 times\n",
      " V occurs 1 times\n",
      " E occurs 2 times\n",
      "5\n",
      "final score is  55\n"
     ]
    }
   ],
   "source": [
    "#True love\n",
    "\n",
    "name1=input(\"Enetr the 1st name :\")\n",
    "name2=input(\"Enter the second name: \")\n",
    "name1=name1.lower()\n",
    "name2=name2.lower()\n",
    "\n",
    "T=0\n",
    "R=0\n",
    "U=0\n",
    "E=0\n",
    "L=0\n",
    "O=0\n",
    "V=0\n",
    "E=0\n",
    "\n",
    "t=name1.count(\"t\")\n",
    "T+=t\n",
    "t=name2.count(\"t\")\n",
    "T+=t\n",
    "print(f\" T occurs {T} times\")\n",
    "\n",
    "r=name1.count(\"r\")\n",
    "R+=r\n",
    "r=name2.count(\"r\")\n",
    "R+=r\n",
    "print(f\" R occurs {R} times\")\n",
    "\n",
    "u=name1.count(\"u\")\n",
    "U+=u\n",
    "u=name2.count(\"u\")\n",
    "U+=u\n",
    "print(f\" U occurs {U} times\")\n",
    "\n",
    "e=name1.count(\"e\")\n",
    "E+=e\n",
    "e=name2.count(\"e\")\n",
    "E+=e\n",
    "print(f\" E occurs {E} times\")\n",
    "\n",
    "First=T+R+U+E\n",
    "\n",
    "print(First)\n",
    "\n",
    "l=name1.count(\"l\")\n",
    "L+=l\n",
    "l=name2.count(\"l\")\n",
    "L+=l\n",
    "print(f\" L occurs {L} times\")\n",
    "\n",
    "\n",
    "o=name1.count(\"o\")\n",
    "O+=o\n",
    "o=name2.count(\"o\")\n",
    "O+=o\n",
    "print(f\" O occurs {O} times\")\n",
    "\n",
    "v=name1.count(\"v\")\n",
    "V+=v\n",
    "v=name2.count(\"v\")\n",
    "V+=v\n",
    "print(f\" V occurs {V} times\")\n",
    "\n",
    "E=0\n",
    "e=name1.count(\"e\")\n",
    "E+=e\n",
    "e=name2.count(\"e\")\n",
    "E+=e\n",
    "print(f\" E occurs {E} times\")\n",
    "\n",
    "second=L+O+V+E\n",
    "\n",
    "print(second)\n",
    "\n",
    "score=str(First)+str(second)\n",
    "\n",
    "score=int(score)\n",
    "\n",
    "print(\"final score is \",score)"
   ]
  },
  {
   "cell_type": "code",
   "execution_count": 55,
   "metadata": {},
   "outputs": [
    {
     "name": "stdout",
     "output_type": "stream",
     "text": [
      "Welcome to the Treasure Island\n",
      "turn left or rightleft\n",
      "turn swim or waitwait\n",
      "select the color blue,red,yellowred\n",
      "game is over\n"
     ]
    }
   ],
   "source": [
    "#Treasure Island\n",
    "\n",
    "print(\"Welcome to the Treasure Island\")\n",
    "\n",
    "dir1=input(\"turn left or right\")\n",
    "\n",
    "if dir1==\"left\":\n",
    "    dir2=input(\"turn swim or wait\")\n",
    "    \n",
    "    if dir2==\"wait\":\n",
    "        color=input(\"select the color blue,red,yellow\")\n",
    "        if color==\"yellow\":\n",
    "            print(\"you won treasure\")\n",
    "        elif color==\"red\" or \"blue\":\n",
    "            print(\"game is over\")\n",
    "    else:\n",
    "        print(\"your game is over\")\n",
    "    \n",
    "    \n",
    "else:\n",
    "    print(\"Game is over you fell in the hole\")"
   ]
  },
  {
   "cell_type": "code",
   "execution_count": null,
   "metadata": {},
   "outputs": [],
   "source": []
  }
 ],
 "metadata": {
  "kernelspec": {
   "display_name": "Python 3",
   "language": "python",
   "name": "python3"
  },
  "language_info": {
   "codemirror_mode": {
    "name": "ipython",
    "version": 3
   },
   "file_extension": ".py",
   "mimetype": "text/x-python",
   "name": "python",
   "nbconvert_exporter": "python",
   "pygments_lexer": "ipython3",
   "version": "3.8.5"
  }
 },
 "nbformat": 4,
 "nbformat_minor": 4
}
